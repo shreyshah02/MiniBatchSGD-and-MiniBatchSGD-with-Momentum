{
 "cells": [
  {
   "cell_type": "markdown",
   "metadata": {},
   "source": [
    "Importing the required libraries"
   ]
  },
  {
   "cell_type": "code",
   "execution_count": 1,
   "metadata": {},
   "outputs": [
    {
     "name": "stderr",
     "output_type": "stream",
     "text": [
      "Using TensorFlow backend.\n"
     ]
    }
   ],
   "source": [
    "import numpy as np\n",
    "import matplotlib.pyplot as plt\n",
    "from keras.datasets import mnist\n"
   ]
  },
  {
   "cell_type": "markdown",
   "metadata": {},
   "source": [
    "## Preprocessing\n",
    "Loading the MNIST dataset and performing the required preprocessing on the data. Reshaping the training data and testing data such that all the images are flattened into column and each column of the dataset X represents one training example. Additionally, normalizing the training and testing data by dividing each pixel value in the dataset by 255.  Reshaping the training and testing label to a row vector. The last digit of my student ID = 0, thus modifying the labels of the training and testing data to contain value 1 for an image containing the number 0 and a value of 0 otherwise. Additionally, printing the shapes of the training and testing data and labels to confirm correct preprocessing."
   ]
  },
  {
   "cell_type": "code",
   "execution_count": 2,
   "metadata": {},
   "outputs": [
    {
     "name": "stdout",
     "output_type": "stream",
     "text": [
      "The training set contains:  60000\n",
      "test set:  10000\n",
      "Shape of the training data (60000, 28, 28)\n",
      "shape of training label (60000,)\n",
      "(784, 60000)\n",
      "(784, 10000)\n",
      "(1, 60000)\n",
      "(1, 10000)\n"
     ]
    }
   ],
   "source": [
    "(x_train, y_train), (x_test, y_test) = mnist.load_data()\n",
    "print('The training set contains: ', len(x_train))\n",
    "print('test set: ', len(x_test))\n",
    "print('Shape of the training data',x_train.shape)\n",
    "print('shape of training label',y_train.shape)\n",
    "# Performing the preprocessing steps on the data set\n",
    "# Reshaping the training and test set such that each column represents an image\n",
    "# Reshaping the training and test labels into row vectors\n",
    "x_train = np.reshape(x_train, (60000, -1))\n",
    "x_train = x_train.T\n",
    "y_train = np.reshape(y_train, (1, -1))\n",
    "x_test = np.reshape(x_test, (10000, -1))\n",
    "x_test = x_test.T\n",
    "y_test = np.reshape(y_test, (1, -1))\n",
    "# Normalizing the data in training and test sets\n",
    "x_train = x_train/255\n",
    "x_test = x_test/255\n",
    "# Updating the labels in the training and test set\n",
    "# Last digit of my student id = 0\n",
    "# Thus, the label of an image of number 0 should be 1 and 0 otherwise\n",
    "# This is achieved by creating masks for the training and testing labels such that the masks have True for indices\n",
    "# which correspond to an image of number 0\n",
    "id_mask_train = y_train == 0\n",
    "id_mask_test = y_test == 0\n",
    "y_train[id_mask_train] = 1\n",
    "y_train[np.logical_not(id_mask_train)] = 0\n",
    "y_test[id_mask_test] = 1\n",
    "y_test[np.logical_not(id_mask_test)] = 0\n",
    "# Checking the shape of the training and test sets\n",
    "print(x_train.shape)\n",
    "print(x_test.shape)\n",
    "print(y_train.shape)\n",
    "print(y_test.shape)"
   ]
  },
  {
   "cell_type": "markdown",
   "metadata": {},
   "source": [
    "## Deep Neural Network Class\n",
    "Class for creating and training the neural network with 1 hidden layer to solve the Binary Classification problem on the MNIST dataset. The constructor method (_init_) loads the training and the test dataset, splits the training set into training (48000) + validation set(12000). The validation set is later used to tune the hyperparameters like the learning rate, the number of neurons in the hidden layer, the activation function for the hidden layer etc. \n",
    "\n",
    "### Activation Functions and their Gradients\n",
    "Functions for implementing the sigmoid activation, tanh activation and ReLU activation functions. The function act_gradient computes and returns the gradeint of the activation function (provided as parameter). \n",
    "\n",
    "### Forward Propagation\n",
    "The method forwardProp() performs the forward propagation through one layer of the neural network. The parameters provided to the method are : the weights and the biases associated with the layer, input to the layer and the activation function of the layer. It returns the output form the layer. \n",
    "\n",
    "### Backward Propagation\n",
    "The method BackProp() performs the backward propagation through all the layers of the model to determine the gradients with respect to the weights and the biases of each layer\n",
    "\n",
    "### Initialization\n",
    "The method initialization initializes the weights and biases for the all layers of the model, small random values of the required dimensions using the numpy method random.random(). The random values (between 0 and 1) are multiplied by 0.01 to make them small. The number of neurons and the activation function for the hidden layer of the network is also loaded in the constructor method.\n",
    "\n",
    "### Train Model\n",
    "The method train_model() performs the gradeint descent algorithm for the training dataset, performs the forward propagation with the learned parameters to generate the predicted values for training set and computes the cost and accuracy achieved by the trained model on the training data. If multiple learning rates are provided to the object, then train_model() performs training with each learning rate, computes the cost of the learned model on the validation set and selects the value of alpha which performs best on the validation set for the final training of the model. The accuracy is computed by rounding the predicted values. These rounded prediction values are compared with ground truth values to comput the accuracy on the training data.\n",
    "\n",
    "### MiniBatch SGD\n",
    "The method miniBatchSGD() performs the mini batch gradeint descent algorithm for the training dataset, performs the forward propagation with the learned parameters to generate the predicted values for training set and computes the cost and accuracy achieved by the trained model on the training data. The number of epochs is provided as a parameter to the method. The accuracy is computed by rounding the predicted values. These rounded prediction values are compared with ground truth values to comput the accuracy on the training data.\n",
    "\n",
    "### MiniBatch SGD with Momentum\n",
    "The method MiniBatchSGD_Momentum() performs the mini batch gradeint descent with momentum algorithm for the training dataset, performs the forward propagation with the learned parameters to generate the predicted values for training set and computes the cost and accuracy achieved by the trained model on the training data. The number of epochs is provided as a parameter to the method. The accuracy is computed by rounding the predicted values. These rounded prediction values are compared with ground truth values to comput the accuracy on the training data.\n",
    "\n",
    "### Test Model\n",
    "The method test_model assess the trained model on the test data set. It performs the forward propagation with the learned parameters to generate the predicted values for the test set and computes the cost and accuracy achieved by the trained model on the test dataset. The accuracy is computed by rounding the predicted values. These rounded prediction values are compared with ground truth values to comput the accuracy on the test data.\n",
    "\n",
    "### Validate Model\n",
    "The method Validate_model asses the trained model on the validation set to tune the hyper parameters of the model.\n"
   ]
  },
  {
   "cell_type": "code",
   "execution_count": 7,
   "metadata": {},
   "outputs": [],
   "source": [
    "class DeepNeuralNetwork:\n",
    "    def __init__(self, x_train, y_train, x_test, y_test, alpha, layers=2, neurons=(8, 1),\n",
    "                 activations=('ReLU', 'sigmoid'), val=False, reg=False, lmbda=0, drop=False, kp=1, \n",
    "                 batchSize = 64, beta = 0.9):\n",
    "        if val:\n",
    "            split = int(0.8*x_train.shape[1])\n",
    "            self.x_val = x_train[:, split:]\n",
    "            self.y_val = y_train[:, split:]\n",
    "            \n",
    "        else:\n",
    "            split = x_train.shape[1]\n",
    "            self.x_val = None\n",
    "            self.y_val = None\n",
    "        self.val = val\n",
    "        self.x_train = x_train[:, :split]\n",
    "        self.y_train = y_train[:, :split]\n",
    "        self.x_test = x_test\n",
    "        self.y_test = y_test\n",
    "        self.alpha = alpha\n",
    "        self.neurons = neurons\n",
    "        self.W = None\n",
    "        self.b = None\n",
    "#         self.Z = None\n",
    "#         self.A = None\n",
    "        self.activations = activations\n",
    "        self.layers = layers\n",
    "        self.m = self.x_train.shape[1]\n",
    "        self.reg = reg\n",
    "        self. lmbda = lmbda\n",
    "        self.drop = drop\n",
    "        self.kp = kp\n",
    "        self.batchSize = batchSize\n",
    "        self.beta = beta\n",
    "        \n",
    "    \n",
    "    \n",
    "    def act_sigmoid(self, z):\n",
    "        A = 1/(1+np.exp(-z))\n",
    "        return A\n",
    "\n",
    "\n",
    "    def act_tanh(self, z):\n",
    "        A = np.tanh(z)\n",
    "        return A\n",
    "\n",
    "\n",
    "    def act_relu(self, z):\n",
    "        A = np.maximum(0, z)\n",
    "        return A\n",
    "    \n",
    "    \n",
    "    def Activation_function(self, z, act):\n",
    "        if act == 'ReLU':\n",
    "            A = self.act_relu(z)\n",
    "        elif act == 'tanh':\n",
    "            A = self.act_tanh(z)\n",
    "        elif act == 'sigmoid':\n",
    "            A = self.act_sigmoid(z)\n",
    "        return A\n",
    "\n",
    "    \n",
    "    def act_gradient(self, A, act = 'ReLU'):\n",
    "        dg = np.zeros_like(A)\n",
    "        if act == 'ReLU':\n",
    "            dg[A>0] = 1\n",
    "        elif act == 'sigmoid':\n",
    "            dg = A*(1 - A)\n",
    "        elif act == 'tanh':\n",
    "            dg = 1 - np.square(A)\n",
    "\n",
    "        return dg\n",
    "    \n",
    "    \n",
    "    def initialization(self):\n",
    "        W = []\n",
    "        b = []\n",
    "        V_W = []\n",
    "        V_b = []\n",
    "        n = self.x_train.shape[0]\n",
    "        for i in range(self.layers):\n",
    "            w = np.random.randn(self.neurons[i], n) / n**0.5 # *0.01\n",
    "#             bias = np.random.randn(self.neurons[i], 1)* 0.1\n",
    "            v_w = np.zeros((self.neurons[i], n))\n",
    "            bias = np.zeros((self.neurons[i], 1))\n",
    "            v_b = np.zeros((self.neurons[i], 1))\n",
    "#             w = np.random.random((self.neurons[i], n))*0.01\n",
    "#             bias = np.random.random((self.neurons[i], 1)) * 0.01\n",
    "            W.append(w)\n",
    "            b.append(bias)\n",
    "            V_W.append(v_w)\n",
    "            V_b.append(v_b)\n",
    "#             print('bias[{}] = '.format(i), bias)\n",
    "            n = self.neurons[i]\n",
    "        self.W = W\n",
    "        self.b = b\n",
    "        self.V_W = V_W\n",
    "        self.V_b = V_b\n",
    "    \n",
    "    \n",
    "    def ForwardProp(self, x):#(self, x, y)\n",
    "        Z = []\n",
    "        A = []\n",
    "        a = x\n",
    "        # activation of the 0th layer is the training example\n",
    "        # z of 1st layer is at Z[0]\n",
    "        # activation of 1st layer is at A[1]\n",
    "        A.append(a)\n",
    "        for i in range(self.layers):\n",
    "            z_l = np.dot(self.W[i], a) + self.b[i]\n",
    "            a_l = self.Activation_function(z_l, self.activations[i])\n",
    "            Z.append(z_l)\n",
    "            A.append(a_l)\n",
    "            a = a_l\n",
    "#         self.Z = Z\n",
    "#         self.A = A\n",
    "        return Z, A\n",
    "    \n",
    "    def ForwardProp_Drop(self, x):  # (self, x, y)\n",
    "        Z = []\n",
    "        A = []\n",
    "        D = []\n",
    "        a = x\n",
    "        # activation of the 0th layer is the training example\n",
    "        # z of 1st layer is at Z[0]\n",
    "        # activation of 1st layer is at A[1]\n",
    "        A.append(a)\n",
    "        for i in range(self.layers):\n",
    "            z_l = np.dot(self.W[i], a) + self.b[i]\n",
    "            a_l = self.Activation_function(z_l, self.activations[i])\n",
    "            if i != self.layers - 1:\n",
    "                d_l = np.random.randn(a_l.shape[0], a_l.shape[1])\n",
    "                d_l = (d_l<self.kp)\n",
    "                a_l = a_l * d_l\n",
    "                a_l = a_l/self.kp\n",
    "                D.append(d_l)\n",
    "            Z.append(z_l)\n",
    "            A.append(a_l)\n",
    "\n",
    "            a = a_l\n",
    "        #         self.Z = Z\n",
    "        #         self.A = A\n",
    "        return Z, A, D\n",
    "    \n",
    "    def BackProp(self, Z, A, y, m):\n",
    "#         dA = - self.y_train/A[-1] + (1 - self.y_train)/(1 - A[-1])\n",
    "        dZ = Z.copy()\n",
    "        dW = self.W.copy()\n",
    "        db = self.b.copy()\n",
    "        a = A[-1]\n",
    "        dZ[-1] = A[-1] - y\n",
    "        for i in range(len(dZ) - 1, -1, -1):\n",
    "#             dZ[i] = dA*self.act_gradient(a, self.activations[i])\n",
    "            dW[i] = dZ[i].dot(A[i].T) / m\n",
    "            if self.reg:\n",
    "                dW[i] += self.lmbda*self.W[i] / m\n",
    "            db[i] = np.sum(dZ[i], axis = 1) / m\n",
    "            db[i] = np.reshape(db[i], (-1, 1))\n",
    "#             print('Shape of db[{}] = '.format(i),db[i].shape)\n",
    "            dA = np.dot(self.W[i].T, dZ[i])\n",
    "            a = A[i]\n",
    "            if i != 0:\n",
    "                dZ[i - 1] = dA*self.act_gradient(a, self.activations[i - 1])\n",
    "            \n",
    "        return dW, db\n",
    "    \n",
    "    def BackProp_Drop(self, Z, A, D, y, m):\n",
    "        #         dA = - self.y_train/A[-1] + (1 - self.y_train)/(1 - A[-1])\n",
    "        dZ = Z.copy()\n",
    "        dW = self.W.copy()\n",
    "        db = self.b.copy()\n",
    "        a = A[-1]\n",
    "        dZ[-1] = A[-1] - y\n",
    "        for i in range(len(dZ) - 1, -1, -1):\n",
    "            #             dZ[i] = dA*self.act_gradient(a, self.activations[i])\n",
    "            dW[i] = dZ[i].dot(A[i].T) / m\n",
    "            if self.reg:\n",
    "                dW[i] += self.lmbda * self.W[i] / m\n",
    "            db[i] = np.sum(dZ[i], axis=1) / m\n",
    "            db[i] = np.reshape(db[i], (-1, 1))\n",
    "            #             print('Shape of db[{}] = '.format(i),db[i].shape)\n",
    "            dA = np.dot(self.W[i].T, dZ[i])\n",
    "            a = A[i]\n",
    "            if i != 0:\n",
    "                dZ[i - 1] = dA * self.act_gradient(a, self.activations[i - 1])\n",
    "                dA = dA*D[i-1]\n",
    "                dA = dA / self.kp\n",
    "        return dW, db\n",
    "    \n",
    "    def miniBatchSGD(self, epochs):\n",
    "        self.initialization()\n",
    "        costs = []\n",
    "        i = 0\n",
    "        for epoch in range(epochs):\n",
    "            indices = np.random.permutation(self.m)\n",
    "            X = self.x_train[:, indices]\n",
    "            Y = self.y_train[:, indices]\n",
    "            if i == 0:\n",
    "                print('shape of x_train: ', self.x_train.shape, 'shape of new X: ', X.shape)\n",
    "                print('shape of y_train: ', self.y_train.shape, 'shape of new Y: ', Y.shape)\n",
    "                i+=1\n",
    "            split_indices = [i*self.batchSize for i in range(1, (self.m+self.batchSize - 1)//self.batchSize)]\n",
    "            X_batches = np.split(X, split_indices, axis = 1)\n",
    "            Y_batches = np.split(Y, split_indices, axis = 1)\n",
    "            for ind, x_batch in enumerate(X_batches):\n",
    "                if self.drop:\n",
    "                    Z, A, D = self.ForwardProp_Drop(x_batch)\n",
    "                    dW, db = self.BackProp_Drop(Z, A, D, Y_batches[ind], self.batchSize)\n",
    "                else:\n",
    "                    Z, A = self.ForwardProp(x_batch)\n",
    "                    dW, db = self.BackProp(Z, A, Y_batches[ind], self.batchSize)\n",
    "                cost = self.ComputeCost(A[-1], Y_batches[ind])\n",
    "                costs.append(cost)\n",
    "                for i in range(self.layers):\n",
    "                    self.W[i] -= self.alpha*dW[i]\n",
    "                    self.b[i] -= self.alpha*db[i]\n",
    "        e = range(len(costs))\n",
    "        plt.figure()\n",
    "        plt.plot(e, costs)\n",
    "        plt.xlabel('epochs')\n",
    "        plt.ylabel('Cost function')\n",
    "        plt.title('Learning rate  for alpha = {}, batch Size = {}'.format(alpha, self.batchSize))\n",
    "        Z_f, A_f = self.ForwardProp(self.x_train)\n",
    "        cost_f = self.ComputeCost(A_f[-1], self.y_train)\n",
    "        print('Cost after Training = ', cost_f)\n",
    "        A_t = np.around(A_f[-1])\n",
    "        accuracy = np.mean(A_t == self.y_train)\n",
    "        print('Accuracy on Training Data = ', accuracy)\n",
    "        return self.W[i], self.b[i], A_f[-1]\n",
    "    \n",
    "    def MiniBatch_Momentum(self, epochs):\n",
    "        self.initialization()\n",
    "        costs = []\n",
    "        for epoch in range(epochs):\n",
    "            indices = np.random.permutation(self.m)\n",
    "            X = self.x_train[:, indices]\n",
    "            Y = self.y_train[:, indices]\n",
    "            split_indices = [i*self.batchSize for i in range(1, (self.m+self.batchSize - 1)//self.batchSize)]\n",
    "            X_batches = np.split(X, split_indices, axis = 1)\n",
    "            Y_batches = np.split(Y, split_indices, axis = 1)\n",
    "            for ind, x_batch in enumerate(X_batches):\n",
    "                if self.drop:\n",
    "                    Z, A, D = self.ForwardProp_Drop(x_batch)\n",
    "                    dW, db = self.BackProp_Drop(Z, A, D, Y_batches[ind], self.batchSize)\n",
    "                else:\n",
    "                    Z, A = self.ForwardProp(x_batch)\n",
    "                    dW, db = self.BackProp(Z, A, Y_batches[ind], self.batchSize)\n",
    "                cost = self.ComputeCost(A[-1], Y_batches[ind])\n",
    "                costs.append(cost)\n",
    "                for i in range(self.layers):\n",
    "                    self.V_W[i] = self.beta*self.V_W[i] + (1 - self.beta)*dW[i]\n",
    "                    self.V_b[i] = self.beta*self.V_b[i] + (1 - self.beta)*db[i]\n",
    "                    self.W[i] -= self.alpha*self.V_W[i]\n",
    "                    self.b[i] -= self.alpha*self.V_b[i]\n",
    "        e = range(len(costs))\n",
    "        plt.figure()\n",
    "        plt.plot(e, costs)\n",
    "        plt.xlabel('epochs')\n",
    "        plt.ylabel('Cost function')\n",
    "        plt.title('Learning rate for alpha = {}, batch Size = {}, beta = {}'.format(alpha, self.batchSize, self.beta))\n",
    "        Z_f, A_f = self.ForwardProp(self.x_train)\n",
    "        cost_f = self.ComputeCost(A_f[-1], self.y_train)\n",
    "        print('Cost after Training = ', cost_f)\n",
    "        A_t = np.around(A_f[-1])\n",
    "        accuracy = np.mean(A_t == self.y_train)\n",
    "        print('Accuracy on Training Data = ', accuracy)\n",
    "        return self.W[i], self.b[i], A_f[-1]\n",
    "            \n",
    "\n",
    "    def train_model(self, epochs):\n",
    "        self.initialization()\n",
    "        costs = []\n",
    "        for epoch in range(epochs):\n",
    "            if self.drop:\n",
    "                Z, A, D = self.ForwardProp_Drop(self.x_train)\n",
    "                dW, db = self.BackProp_Drop(Z, A, D, self.y_train, self.m)\n",
    "            else:\n",
    "                Z, A = self.ForwardProp(self.x_train)\n",
    "                dW, db = self.BackProp(Z, A, self.y_train, self.m)\n",
    "            cost = self.ComputeCost(A[-1], self.y_train)\n",
    "            costs.append(cost)\n",
    "#             plt.plot(epoch, cost, 'bx')\n",
    "#             plt.title('Learning Curve')\n",
    "#             plt.xlabel('iterations')\n",
    "#             plt.ylabel('Cost')\n",
    "            \n",
    "            for i in range(self.layers):\n",
    "#                 print('Update Iteration {}'.format(i))\n",
    "                self.W[i] -= self.alpha*dW[i]\n",
    "                self.b[i] -= self.alpha*db[i]\n",
    "        e = range(epochs)\n",
    "        plt.figure()\n",
    "        plt.plot(e, costs)\n",
    "        plt.xlabel('epochs')\n",
    "        plt.ylabel('Cost function')\n",
    "        plt.title('Learning rate for alpha = {}'.format(alpha))\n",
    "        Z_f, A_f = self.ForwardProp(self.x_train)\n",
    "        cost_f = self.ComputeCost(A_f[-1], self.y_train)\n",
    "        print('Cost after Training = ', cost_f)\n",
    "        A_t = np.around(A_f[-1])\n",
    "        accuracy = np.mean(A_t == self.y_train)\n",
    "        print('Accuracy on Training Data = ', accuracy)\n",
    "        return self.W[i], self.b[i], A_f[-1]\n",
    "\n",
    "    def test_model(self, x, y):\n",
    "        Z, A = self.ForwardProp(x)\n",
    "        cost = self.ComputeCost(A[-1], y)\n",
    "        A_t = np.around(A[-1])\n",
    "        accuracy = np.mean(A_t == y)\n",
    "        print('The cost on test set = {}'.format(cost))\n",
    "        print('The accuracy on test set = {}'.format(accuracy))\n",
    "        return A[-1], A_t\n",
    "    \n",
    "    def ComputeCost(self, A, y):\n",
    "        cost = - np.nansum(y*np.log(A) + (1-y)*np.log(1 - A)) / y.shape[1]\n",
    "        if self.reg:\n",
    "            regularization = 0\n",
    "            for i in range(self.layers):\n",
    "                regularization += np.sum(np.square(self.W[i]))\n",
    "            regularization = (self.lmbda*regularization)/(2 * y.shape[1])\n",
    "            cost += regularization\n",
    "        return cost\n",
    "    \n",
    "    def Validate_model(self):\n",
    "        Z, A = self.ForwardProp(self.x_val)\n",
    "        cost = self.ComputeCost(A[-1], self.y_val)\n",
    "        A_v = np.around(A[-1])\n",
    "        accuracy = np.mean(A_v == self.y_val)\n",
    "        print('The cost on Validation set for alpha:{} = {}'.format(self.alpha, cost))\n",
    "        print('The accuracy on Validation set = {}'.format(accuracy))\n",
    "        return cost\n",
    "    "
   ]
  },
  {
   "cell_type": "markdown",
   "metadata": {},
   "source": [
    "## Minibatch SGD\n",
    "Used the Minibatch SGD algorithm to train the neural network with 2 hidden layers consisting of 20 and 10 neurons respectively. ReLU is used as the activation function in the hidden layers, while sigmoid is used as the activation function in the output layers. The learning rate is set at 0.5 which was determined using cross validation. No regularization (either L2 or droput) was used while training the models. To investigate the impact of the batch size, different models were trained with varying batchsizes (64, 128, 256, and 512). The learning curve and the accuracy for all each of these models was determined and the best batch size was determined based on the performance on the validation set. The model with best performance on the validation set was then evaluated on the test set. "
   ]
  },
  {
   "cell_type": "code",
   "execution_count": 8,
   "metadata": {},
   "outputs": [
    {
     "name": "stdout",
     "output_type": "stream",
     "text": [
      "For batchSize = 64\n",
      "shape of x_train:  (784, 48000) shape of new X:  (784, 48000)\n",
      "shape of y_train:  (1, 48000) shape of new Y:  (1, 48000)\n"
     ]
    },
    {
     "name": "stderr",
     "output_type": "stream",
     "text": [
      "C:\\Users\\shrey\\AppData\\Roaming\\Python\\Python36\\site-packages\\ipykernel_launcher.py:314: RuntimeWarning: divide by zero encountered in log\n",
      "C:\\Users\\shrey\\AppData\\Roaming\\Python\\Python36\\site-packages\\ipykernel_launcher.py:314: RuntimeWarning: invalid value encountered in multiply\n"
     ]
    },
    {
     "name": "stdout",
     "output_type": "stream",
     "text": [
      "Cost after Training =  4.315994774107928e-06\n",
      "Accuracy on Training Data =  1.0\n",
      "The cost on Validation set for alpha:0.5 = 0.0301501367048026\n",
      "The accuracy on Validation set = 0.9970833333333333\n",
      "For batchSize = 128\n",
      "shape of x_train:  (784, 48000) shape of new X:  (784, 48000)\n",
      "shape of y_train:  (1, 48000) shape of new Y:  (1, 48000)\n",
      "Cost after Training =  7.51559606206143e-06\n",
      "Accuracy on Training Data =  1.0\n",
      "The cost on Validation set for alpha:0.5 = 0.015422052792525615\n",
      "The accuracy on Validation set = 0.9978333333333333\n",
      "For batchSize = 256\n",
      "shape of x_train:  (784, 48000) shape of new X:  (784, 48000)\n",
      "shape of y_train:  (1, 48000) shape of new Y:  (1, 48000)\n",
      "Cost after Training =  2.034524490066562e-05\n",
      "Accuracy on Training Data =  1.0\n",
      "The cost on Validation set for alpha:0.5 = 0.012652636447825449\n",
      "The accuracy on Validation set = 0.9975\n",
      "For batchSize = 512\n",
      "shape of x_train:  (784, 48000) shape of new X:  (784, 48000)\n",
      "shape of y_train:  (1, 48000) shape of new Y:  (1, 48000)\n",
      "Cost after Training =  6.714764505441506e-05\n",
      "Accuracy on Training Data =  1.0\n",
      "The cost on Validation set for alpha:0.5 = 0.014433087650609246\n",
      "The accuracy on Validation set = 0.9970833333333333\n",
      "Best validation cost = 0.012652636447825449, achieved for batch size = 256\n"
     ]
    },
    {
     "data": {
      "image/png": "[encoded data removed]",
      "text/plain": [
       "<Figure size 432x288 with 1 Axes>"
      ]
     },
     "metadata": {
      "needs_background": "light"
     },
     "output_type": "display_data"
    },
    {
     "data": {
      "image/png": "[encoded data removed]",
      "text/plain": [
       "<Figure size 432x288 with 1 Axes>"
      ]
     },
     "metadata": {
      "needs_background": "light"
     },
     "output_type": "display_data"
    },
    {
     "data": {
      "image/png": "[encoded data removed]",
      "text/plain": [
       "<Figure size 432x288 with 1 Axes>"
      ]
     },
     "metadata": {
      "needs_background": "light"
     },
     "output_type": "display_data"
    },
    {
     "data": {
      "image/png": "[encoded data removed]",
      "text/plain": [
       "<Figure size 432x288 with 1 Axes>"
      ]
     },
     "metadata": {
      "needs_background": "light"
     },
     "output_type": "display_data"
    }
   ],
   "source": [
    "# alphas = [0.5]\n",
    "alpha = 0.5\n",
    "batchSizes = [64, 128, 256, 512]\n",
    "best_cost = float('inf')\n",
    "best_model = None\n",
    "a = None\n",
    "for batchSize in batchSizes:\n",
    "    layers = 3\n",
    "    neurons = [20, 10, 1]\n",
    "    activations = ['ReLU', 'ReLU', 'sigmoid']\n",
    "    DNN = DeepNeuralNetwork(x_train, y_train, x_test, y_test, alpha = alpha, layers = layers, neurons = neurons,\n",
    "                           activations = activations, val = True, batchSize = batchSize)\n",
    "    print('For batchSize = {}'.format(batchSize))\n",
    "    W, b, A_f = DNN.miniBatchSGD(100)\n",
    "    cost_val = DNN.Validate_model()\n",
    "    if cost_val<best_cost:\n",
    "        best_cost = cost_val\n",
    "        best_model = DNN\n",
    "        a = batchSize\n",
    "print('Best validation cost = {}, achieved for batch size = {}'.format(best_cost, a))\n",
    "\n",
    "# print('Batch Gradient descent:')\n",
    "# W, b, A_f = DNN.train_model(100)\n",
    "# cost_val = DNN.Validate_model()\n"
   ]
  },
  {
   "cell_type": "markdown",
   "metadata": {},
   "source": [
    "### Discussion of the Minibatch SGD\n",
    "It is evident from the learning curves, with increasing the batchsize, the learning curve becomes smoother, but the time required to converge also increases, althought the achieved accuracy on the training dataset and the validation set was almost similar (getting a little better with increase in the batch size). Based on the performance, it is evident that the batchsize of 256 gave the best performance both in terms of performance on the validation set and also faster convergence.\n",
    "\n",
    "Thus, I have used the model with batch size = 256 for evaluation on the test data set.\n",
    "\n",
    "Using the trained model with batch size = 256, the performance achived on the test set is as follows:"
   ]
  },
  {
   "cell_type": "code",
   "execution_count": 9,
   "metadata": {},
   "outputs": [
    {
     "name": "stdout",
     "output_type": "stream",
     "text": [
      "The cost on test set = 0.019016320067735643\n",
      "The accuracy on test set = 0.9971\n"
     ]
    }
   ],
   "source": [
    "A_t1, A_t2 = best_model.test_model(x_test, y_test)"
   ]
  },
  {
   "cell_type": "markdown",
   "metadata": {},
   "source": [
    "## Minibatch SGD with Momentum\n",
    "Used the Minibatch SGD with momentum algorithm to train the neural network with 2 hidden layers consisting of 20 and 10 neurons respectively. ReLU is used as the activation function in the hidden layers, while sigmoid is used as the activation function in the output layers. The learning rate is set at 0.5 which was determined using cross validation. No regularization (either L2 or droput) was used while training the models. To investigate the impact of the momentum hyperparamter, different models were trained with varying momentums: (0.9, 0.99, 0.8, 0.6). The learning curve and the accuracy for all each of these models was determined and the best batch size was determined based on the performance on the validation set. The model with best performance on the validation set was then evaluated on the test set. "
   ]
  },
  {
   "cell_type": "code",
   "execution_count": 10,
   "metadata": {},
   "outputs": [
    {
     "name": "stdout",
     "output_type": "stream",
     "text": [
      "For beta = 0.9\n"
     ]
    },
    {
     "name": "stderr",
     "output_type": "stream",
     "text": [
      "C:\\Users\\shrey\\AppData\\Roaming\\Python\\Python36\\site-packages\\ipykernel_launcher.py:314: RuntimeWarning: divide by zero encountered in log\n",
      "C:\\Users\\shrey\\AppData\\Roaming\\Python\\Python36\\site-packages\\ipykernel_launcher.py:314: RuntimeWarning: invalid value encountered in multiply\n"
     ]
    },
    {
     "name": "stdout",
     "output_type": "stream",
     "text": [
      "Cost after Training =  2.551272257679961e-06\n",
      "Accuracy on Training Data =  1.0\n",
      "The cost on Validation set for alpha:0.5 = 0.01728319838030556\n",
      "The accuracy on Validation set = 0.99775\n",
      "For beta = 0.99\n",
      "Cost after Training =  9.370084785698503e-05\n",
      "Accuracy on Training Data =  0.9999791666666666\n",
      "The cost on Validation set for alpha:0.5 = inf\n",
      "The accuracy on Validation set = 0.99625\n",
      "For beta = 0.8\n",
      "Cost after Training =  3.0941477965411286e-06\n",
      "Accuracy on Training Data =  1.0\n",
      "The cost on Validation set for alpha:0.5 = 0.016608247953277304\n",
      "The accuracy on Validation set = 0.9975\n",
      "For beta = 0.6\n",
      "Cost after Training =  2.7364431082869246e-06\n",
      "Accuracy on Training Data =  1.0\n",
      "The cost on Validation set for alpha:0.5 = 0.014487473180843124\n",
      "The accuracy on Validation set = 0.9980833333333333\n",
      "Best validation cost = 0.014487473180843124, achieved for beta = 0.6\n"
     ]
    },
    {
     "data": {
      "image/png": "[encoded data removed]",
      "text/plain": [
       "<Figure size 432x288 with 1 Axes>"
      ]
     },
     "metadata": {
      "needs_background": "light"
     },
     "output_type": "display_data"
    },
    {
     "data": {
      "image/png": "[encoded data removed]",
      "text/plain": [
       "<Figure size 432x288 with 1 Axes>"
      ]
     },
     "metadata": {
      "needs_background": "light"
     },
     "output_type": "display_data"
    },
    {
     "data": {
      "image/png": "[encoded data removed]",
      "text/plain": [
       "<Figure size 432x288 with 1 Axes>"
      ]
     },
     "metadata": {
      "needs_background": "light"
     },
     "output_type": "display_data"
    },
    {
     "data": {
      "image/png": "[encoded data removed]",
      "text/plain": [
       "<Figure size 432x288 with 1 Axes>"
      ]
     },
     "metadata": {
      "needs_background": "light"
     },
     "output_type": "display_data"
    }
   ],
   "source": [
    "best_cost = float('inf')\n",
    "best_model = None\n",
    "a = None\n",
    "betas = [0.9, 0.99, 0.8, 0.6]\n",
    "for beta in betas:\n",
    "    layers = 3\n",
    "    neurons = [20, 10, 1]\n",
    "    activations = ['ReLU', 'ReLU', 'sigmoid']\n",
    "    DNN = DeepNeuralNetwork(x_train, y_train, x_test, y_test, alpha = alpha, layers = layers, neurons = neurons,\n",
    "                           activations = activations, val = True, batchSize = 64, beta = beta)\n",
    "    print('For beta = {}'.format(beta))\n",
    "    W, b, A_f = DNN.MiniBatch_Momentum(100)\n",
    "    cost_val = DNN.Validate_model()\n",
    "    if cost_val<best_cost:\n",
    "        best_cost = cost_val\n",
    "        best_model = DNN\n",
    "        a = beta\n",
    "print('Best validation cost = {}, achieved for beta = {}'.format(best_cost, a))"
   ]
  },
  {
   "cell_type": "markdown",
   "metadata": {},
   "source": [
    "### Discussion of the Minibatch SGD with Momentum\n",
    "From the results on the validation set, the best performance was achived on the momentum hyperparameter value  = 0.6. Although the training accuracy and the validation accuracy were almost similar in all cases, the main difference was the learning curve and the time required for convergence. It was evident that with very high value of beta 0.99, learning curve was very spicky and the convergence time was high. While with decreasing values of beta, the learning curve became smoother and convergence time decreased in general. But for beta = 0.6 the smoothness of the learning curve decreased a little with increase in convergence time. "
   ]
  },
  {
   "cell_type": "markdown",
   "metadata": {},
   "source": [
    "The best model was evaluated on the test set and the following results were obtained:"
   ]
  },
  {
   "cell_type": "code",
   "execution_count": 11,
   "metadata": {},
   "outputs": [
    {
     "name": "stdout",
     "output_type": "stream",
     "text": [
      "The cost on test set = 0.01994498726243682\n",
      "The accuracy on test set = 0.9977\n"
     ]
    },
    {
     "name": "stderr",
     "output_type": "stream",
     "text": [
      "C:\\Users\\shrey\\AppData\\Roaming\\Python\\Python36\\site-packages\\ipykernel_launcher.py:314: RuntimeWarning: divide by zero encountered in log\n",
      "C:\\Users\\shrey\\AppData\\Roaming\\Python\\Python36\\site-packages\\ipykernel_launcher.py:314: RuntimeWarning: invalid value encountered in multiply\n"
     ]
    }
   ],
   "source": [
    "A_t1, A_t2 = best_model.test_model(x_test, y_test)"
   ]
  },
  {
   "cell_type": "code",
   "execution_count": null,
   "metadata": {},
   "outputs": [],
   "source": []
  }
 ],
 "metadata": {
  "kernelspec": {
   "display_name": "cv",
   "language": "python",
   "name": "cv"
  },
  "language_info": {
   "codemirror_mode": {
    "name": "ipython",
    "version": 3
   },
   "file_extension": ".py",
   "mimetype": "text/x-python",
   "name": "python",
   "nbconvert_exporter": "python",
   "pygments_lexer": "ipython3",
   "version": "3.6.8"
  }
 },
 "nbformat": 4,
 "nbformat_minor": 2
}
